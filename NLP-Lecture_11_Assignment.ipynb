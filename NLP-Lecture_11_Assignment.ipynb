{
 "cells": [
  {
   "cell_type": "markdown",
   "metadata": {},
   "source": [
    "\"\"\"\n",
    "1. Review the course programming code;\n",
    "2. Complete the Edit-Distance Problem Solution, by which we could get the detailed transformer procedure of two string X and Y.\n",
    "2. Complete the Pinyin auto-correction problem\n",
    "\"\"\""
   ]
  },
  {
   "cell_type": "code",
   "execution_count": 24,
   "metadata": {},
   "outputs": [
    {
     "name": "stdout",
     "output_type": "stream",
     "text": [
      "743\n",
      "{1: [1, 0], 2: [2, 0], 3: [3, 0], 4: [2, 2], 5: [2, 3], 6: [6, 0], 7: [1, 6], 8: [2, 6], 9: [3, 6], 10: [10, 0], 11: [11, 0], 12: [1, 11], 13: [2, 11], 14: [3, 11], 15: [2, 13], 16: [2, 14], 17: [6, 11], 18: [1, 17], 19: [2, 17], 20: [3, 17], 21: [10, 11], 22: [11, 11], 23: [1, 22], 24: [2, 22], 25: [3, 22], 26: [2, 24], 27: [2, 25], 28: [6, 22], 29: [1, 28], 30: [2, 28], 31: [3, 28], 32: [10, 22], 33: [11, 22], 34: [1, 33], 35: [2, 33], 36: [3, 33], 37: [2, 35], 38: [2, 36], 39: [6, 33], 40: [1, 39], 41: [2, 39], 42: [3, 39], 43: [10, 33], 44: [11, 33], 45: [1, 44], 46: [2, 44], 47: [3, 44], 48: [2, 46], 49: [2, 47], 50: [6, 44], 51: [1, 50], 52: [2, 50], 53: [3, 50], 54: [10, 44], 55: [11, 44], 56: [1, 55], 57: [2, 55], 58: [3, 55], 59: [2, 57], 60: [2, 58], 61: [6, 55], 62: [1, 61], 63: [2, 61], 64: [3, 61], 65: [10, 55], 66: [11, 55], 67: [1, 66], 68: [2, 66], 69: [3, 66], 70: [2, 68], 71: [2, 69], 72: [6, 66], 73: [1, 72], 74: [2, 72], 75: [3, 72], 76: [10, 66], 77: [11, 66], 78: [1, 77], 79: [2, 77], 80: [3, 77], 81: [2, 79], 82: [2, 80], 83: [6, 77], 84: [1, 83], 85: [2, 83], 86: [3, 83], 87: [10, 77], 88: [11, 77], 89: [1, 88], 90: [2, 88], 91: [3, 88], 92: [2, 90], 93: [2, 91], 94: [6, 88], 95: [1, 94], 96: [2, 94], 97: [3, 94], 98: [10, 88], 99: [11, 88], 100: [1, 99], 101: [2, 99], 102: [3, 99], 103: [2, 101], 104: [2, 102], 105: [6, 99], 106: [1, 105], 107: [2, 105], 108: [3, 105], 109: [10, 99], 110: [11, 99], 111: [1, 110], 112: [2, 110], 113: [3, 110], 114: [2, 112], 115: [2, 113], 116: [6, 110], 117: [1, 116], 118: [2, 116], 119: [3, 116], 120: [10, 110], 121: [11, 110], 122: [1, 121], 123: [2, 121], 124: [3, 121], 125: [2, 123], 126: [2, 124], 127: [6, 121], 128: [1, 127], 129: [2, 127], 130: [3, 127], 131: [10, 121], 132: [11, 121], 133: [1, 132], 134: [2, 132], 135: [3, 132], 136: [2, 134], 137: [2, 135], 138: [6, 132], 139: [1, 138], 140: [2, 138], 141: [3, 138], 142: [10, 132], 143: [11, 132], 144: [1, 143], 145: [2, 143], 146: [3, 143], 147: [2, 145], 148: [2, 146], 149: [6, 143], 150: [1, 149], 151: [2, 149], 152: [3, 149], 153: [10, 143], 154: [11, 143], 155: [1, 154], 156: [2, 154], 157: [3, 154], 158: [2, 156], 159: [2, 157], 160: [6, 154], 161: [1, 160], 162: [2, 160], 163: [3, 160], 164: [10, 154], 165: [11, 154], 166: [1, 165], 167: [2, 165], 168: [3, 165], 169: [2, 167], 170: [2, 168], 171: [6, 165], 172: [1, 171], 173: [2, 171], 174: [3, 171], 175: [10, 165], 176: [11, 165], 177: [1, 176], 178: [2, 176], 179: [3, 176], 180: [2, 178], 181: [2, 179], 182: [6, 176], 183: [1, 182], 184: [2, 182], 185: [3, 182], 186: [10, 176], 187: [11, 176], 188: [1, 187], 189: [2, 187], 190: [3, 187], 191: [2, 189], 192: [2, 190], 193: [6, 187], 194: [1, 193], 195: [2, 193], 196: [3, 193], 197: [10, 187], 198: [11, 187], 199: [1, 198], 200: [2, 198], 201: [3, 198], 202: [2, 200], 203: [2, 201], 204: [6, 198], 205: [1, 204], 206: [2, 204], 207: [3, 204], 208: [10, 198], 209: [11, 198], 210: [1, 209], 211: [2, 209], 212: [3, 209], 213: [2, 211], 214: [2, 212], 215: [6, 209], 216: [1, 215], 217: [2, 215], 218: [3, 215], 219: [10, 209], 220: [11, 209], 221: [1, 220], 222: [2, 220], 223: [3, 220], 224: [2, 222], 225: [2, 223], 226: [6, 220], 227: [1, 226], 228: [2, 226], 229: [3, 226], 230: [10, 220], 231: [11, 220], 232: [1, 231], 233: [2, 231], 234: [3, 231]}\n",
      "[3, 11, 11, 11, 11, 11, 11, 11, 11, 11, 11, 11, 11, 11, 11, 11, 11, 11, 11, 11, 11, 11]\n"
     ]
    }
   ],
   "source": [
    "from collections import defaultdict, Counter\n",
    "from functools import wraps, lru_cache\n",
    "import re\n",
    "import sys\n",
    "\n",
    "origin_price = [1, 5, 8, 9, 10, 17, 17, 20, 24, 30, 35]\n",
    "\n",
    "##生成木材价格字典\n",
    "price = defaultdict(int)\n",
    "for i, p in enumerate(origin_price):\n",
    "    price[i+1] = p\n",
    "#print(price)\n",
    "\n",
    "#def r(n):\n",
    "    #return max([price[n]] + [r(i) + r(n-i) for i in range(1,n)])\n",
    "#r(20)\n",
    "\n",
    "def memo(f):\n",
    "    memo.already_saved = {}\n",
    "    @wraps(f)\n",
    "    def _wraps(arg):\n",
    "        result = None\n",
    "        if arg in memo.already_saved:\n",
    "            result = memo.already_saved[arg]\n",
    "        else:\n",
    "            result = f(arg)\n",
    "            memo.already_saved[arg] = result\n",
    "        return result\n",
    "    return _wraps\n",
    "\n",
    "solution = {}\n",
    "\n",
    "@memo\n",
    "def r(n):\n",
    "    max_price, max_split = max([(price[n], n)] + [(r(i) + r(n-i), i) for i in range(1, n)], key=lambda x: x[0])\n",
    "    solution[n] = [max_split, n-max_split]\n",
    "    return max_price\n",
    "\n",
    "print(r(234))\n",
    "print(solution)\n",
    "\n",
    "def parse_solution(n):\n",
    "    left_split, right_split = solution[n][0], solution[n][1]\n",
    "    if right_split == 0:\n",
    "        return [left_split]\n",
    "    else:\n",
    "        return parse_solution(left_split) + parse_solution(right_split)\n",
    "    \n",
    "print(parse_solution(234))"
   ]
  },
  {
   "cell_type": "code",
   "execution_count": 18,
   "metadata": {},
   "outputs": [
    {
     "data": {
      "text/plain": [
       "5"
      ]
     },
     "execution_count": 18,
     "metadata": {},
     "output_type": "execute_result"
    }
   ],
   "source": [
    "from collections import defaultdict\n",
    "from functools import lru_cache\n",
    "\n",
    "solution_L = defaultdict(str)\n",
    "\n",
    "@lru_cache(maxsize = 2**10)\n",
    "def edit_distance(string1, string2):\n",
    "    if len(string1) == 0:  return len(string2)\n",
    "    if len(string2) == 0:  return len(string1)\n",
    "    \n",
    "    tail_s1 = string1[-1]\n",
    "    tail_s2 = string2[-1]\n",
    "    \n",
    "    candidates = [(edit_distance(string1[:-1], string2) + 1, 'DEL {}'.format(tail_s1)),\n",
    "        (edit_distance(string1, string2[:-1]) + 1, 'ADD {}'.format(tail_s2))]\n",
    "        \n",
    "    if tail_s1 == tail_s2:\n",
    "        forward = (edit_distance(string1[:-1], string2[:-1]), '')\n",
    "    else:\n",
    "        forward = (edit_distance(string1[:-1], string2[:-1]) + 1, 'SUB {} => {}'.format(tail_s1, tail_s2))\n",
    "        \n",
    "    candidates.append(forward)\n",
    "    min_distance, operations = min(candidates, key=lambda x: x[0])\n",
    "    solution_L[(string1, string2)] = operations\n",
    "    \n",
    "    return min_distance\n",
    "\n",
    "edit_distance('ACDEFIE', 'ABCED')\n",
    "#print(solution_L)"
   ]
  },
  {
   "cell_type": "code",
   "execution_count": 19,
   "metadata": {},
   "outputs": [
    {
     "name": "stdout",
     "output_type": "stream",
     "text": [
      "['ADD B', 'DEL D', 'SUB F => D', 'DEL I', 'DEL E']\n"
     ]
    }
   ],
   "source": [
    "def parse_solution_1(string1, string2):\n",
    "    parse_operations = []\n",
    "    operation = solution_L[(string1, string2)]\n",
    "    if len(string1) == 0 and len(string2) == 0:\n",
    "        return parse_operations\n",
    "    if len(string1) == 0:\n",
    "        for i in string2:\n",
    "            parse_operations.append('ADD {}'.format(i))\n",
    "        return parse_operations\n",
    "    if len(string2) == 0:\n",
    "        for j in string1:\n",
    "            parse_operations.append('DEL {}'.format(j))\n",
    "        return parse_operations\n",
    "    if operation == '':\n",
    "        return parse_solution_1(string1[:-1], string2[:-1])\n",
    "    else:\n",
    "        if operation.find('SUB') == 0:\n",
    "            return parse_solution_1(string1[:-1], string2[:-1]) + [operation]\n",
    "        if operation.find('ADD') == 0:\n",
    "            return parse_solution_1(string1, string2[:-1]) + [operation]\n",
    "        if operation.find('DEL') == 0:\n",
    "            return parse_solution_1(string1[:-1],string2) + [operation]\n",
    "       \n",
    "print(parse_solution_1('ACDEFIE', 'ABCED'))"
   ]
  },
  {
   "cell_type": "code",
   "execution_count": null,
   "metadata": {},
   "outputs": [],
   "source": []
  }
 ],
 "metadata": {
  "kernelspec": {
   "display_name": "Python 3",
   "language": "python",
   "name": "python3"
  },
  "language_info": {
   "codemirror_mode": {
    "name": "ipython",
    "version": 3
   },
   "file_extension": ".py",
   "mimetype": "text/x-python",
   "name": "python",
   "nbconvert_exporter": "python",
   "pygments_lexer": "ipython3",
   "version": "3.7.3"
  }
 },
 "nbformat": 4,
 "nbformat_minor": 2
}
